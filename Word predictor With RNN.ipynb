{
  "cells": [
    {
      "cell_type": "code",
      "execution_count": 12,
      "metadata": {
        "colab": {
          "base_uri": "https://localhost:8080/"
        },
        "id": "mmzzZOSWoVg5",
        "outputId": "ddcc68c6-a8da-455c-cae6-e60524af594a"
      },
      "outputs": [
        {
          "output_type": "stream",
          "name": "stdout",
          "text": [
            "Drive already mounted at /content/drive; to attempt to forcibly remount, call drive.mount(\"/content/drive\", force_remount=True).\n"
          ]
        }
      ],
      "source": [
        "from google.colab import drive\n",
        "drive.mount('/content/drive')"
      ]
    },
    {
      "cell_type": "code",
      "execution_count": 13,
      "metadata": {
        "id": "S3cLDJfypKmR"
      },
      "outputs": [],
      "source": [
        "csv_path = '/content/drive/My Drive/Deep Learning/million_tweets_subset.csv'"
      ]
    },
    {
      "cell_type": "markdown",
      "metadata": {
        "id": "N_-E594rMym_"
      },
      "source": [
        "**Data**"
      ]
    },
    {
      "cell_type": "code",
      "execution_count": 14,
      "metadata": {
        "colab": {
          "base_uri": "https://localhost:8080/",
          "height": 363
        },
        "id": "-8iBdfRhpXDx",
        "outputId": "b569dae3-2ec5-427f-add6-61007e8b7779"
      },
      "outputs": [
        {
          "output_type": "execute_result",
          "data": {
            "text/plain": [
              "         Date_and_Time                                               Text  \\\n",
              "0  2019-02-01 00:00:00  RT : به نظر شما وقتی #جرمی_هانت وزیر امورخارجه...   \n",
              "1  2019-02-01 00:00:00  RT : بنر تصاویر دیکتاتور توسط #کانونهای_شورشی ...   \n",
              "2  2019-02-01 00:00:00  RT : مشهد به واسطه وجود حرم مطهر امام رضا(ع) و...   \n",
              "3  2019-02-01 00:00:00   عاخه تو مغزشون کردن هرکسی که مثلا از نظام انت...   \n",
              "4  2019-02-01 00:00:00                                    نرم باشه لطفاً.   \n",
              "5  2019-02-01 00:00:00                     ولي پولشو ميداد راضي تر بودم 😂   \n",
              "6  2019-02-01 00:00:00  بونگ بونگ بونگ بونگ بونگ بونگ بونگ بونگ بونگ ب...   \n",
              "7  2019-02-01 00:00:00                         :))))))))))))))))) نیست؟؟؟   \n",
              "8  2019-01-31 23:59:59      از ساعت ۱۲-۱ به بعد هم اساسی فرو میکنه 🚶🏻‍♂️🚬   \n",
              "9  2019-01-31 23:59:59  ولی خودمونیم هیچی اون قر ریزای همراه آهنگ که ا...   \n",
              "\n",
              "   Retweet  Like  Account_id  Followers_count  Following_count  Tweets_count  \n",
              "0      981     0         0.1              144              220           184  \n",
              "1      163     0         1.0             1589              981         31282  \n",
              "2       60     0         2.0              380              418          3614  \n",
              "3        0     1         3.0              466              708          5421  \n",
              "4        0     2         4.0              381              755          4084  \n",
              "5        0     1         5.0               23               46           406  \n",
              "6        0     0         6.0            11532                5         67972  \n",
              "7        0     1         7.0              130              154           843  \n",
              "8        0     3         8.0              353              135           292  \n",
              "9        0    14         9.0              826              348         14370  "
            ],
            "text/html": [
              "\n",
              "  <div id=\"df-d2a63af4-16be-470e-bcc9-e8be4550d370\" class=\"colab-df-container\">\n",
              "    <div>\n",
              "<style scoped>\n",
              "    .dataframe tbody tr th:only-of-type {\n",
              "        vertical-align: middle;\n",
              "    }\n",
              "\n",
              "    .dataframe tbody tr th {\n",
              "        vertical-align: top;\n",
              "    }\n",
              "\n",
              "    .dataframe thead th {\n",
              "        text-align: right;\n",
              "    }\n",
              "</style>\n",
              "<table border=\"1\" class=\"dataframe\">\n",
              "  <thead>\n",
              "    <tr style=\"text-align: right;\">\n",
              "      <th></th>\n",
              "      <th>Date_and_Time</th>\n",
              "      <th>Text</th>\n",
              "      <th>Retweet</th>\n",
              "      <th>Like</th>\n",
              "      <th>Account_id</th>\n",
              "      <th>Followers_count</th>\n",
              "      <th>Following_count</th>\n",
              "      <th>Tweets_count</th>\n",
              "    </tr>\n",
              "  </thead>\n",
              "  <tbody>\n",
              "    <tr>\n",
              "      <th>0</th>\n",
              "      <td>2019-02-01 00:00:00</td>\n",
              "      <td>RT : به نظر شما وقتی #جرمی_هانت وزیر امورخارجه...</td>\n",
              "      <td>981</td>\n",
              "      <td>0</td>\n",
              "      <td>0.1</td>\n",
              "      <td>144</td>\n",
              "      <td>220</td>\n",
              "      <td>184</td>\n",
              "    </tr>\n",
              "    <tr>\n",
              "      <th>1</th>\n",
              "      <td>2019-02-01 00:00:00</td>\n",
              "      <td>RT : بنر تصاویر دیکتاتور توسط #کانونهای_شورشی ...</td>\n",
              "      <td>163</td>\n",
              "      <td>0</td>\n",
              "      <td>1.0</td>\n",
              "      <td>1589</td>\n",
              "      <td>981</td>\n",
              "      <td>31282</td>\n",
              "    </tr>\n",
              "    <tr>\n",
              "      <th>2</th>\n",
              "      <td>2019-02-01 00:00:00</td>\n",
              "      <td>RT : مشهد به واسطه وجود حرم مطهر امام رضا(ع) و...</td>\n",
              "      <td>60</td>\n",
              "      <td>0</td>\n",
              "      <td>2.0</td>\n",
              "      <td>380</td>\n",
              "      <td>418</td>\n",
              "      <td>3614</td>\n",
              "    </tr>\n",
              "    <tr>\n",
              "      <th>3</th>\n",
              "      <td>2019-02-01 00:00:00</td>\n",
              "      <td>عاخه تو مغزشون کردن هرکسی که مثلا از نظام انت...</td>\n",
              "      <td>0</td>\n",
              "      <td>1</td>\n",
              "      <td>3.0</td>\n",
              "      <td>466</td>\n",
              "      <td>708</td>\n",
              "      <td>5421</td>\n",
              "    </tr>\n",
              "    <tr>\n",
              "      <th>4</th>\n",
              "      <td>2019-02-01 00:00:00</td>\n",
              "      <td>نرم باشه لطفاً.</td>\n",
              "      <td>0</td>\n",
              "      <td>2</td>\n",
              "      <td>4.0</td>\n",
              "      <td>381</td>\n",
              "      <td>755</td>\n",
              "      <td>4084</td>\n",
              "    </tr>\n",
              "    <tr>\n",
              "      <th>5</th>\n",
              "      <td>2019-02-01 00:00:00</td>\n",
              "      <td>ولي پولشو ميداد راضي تر بودم 😂</td>\n",
              "      <td>0</td>\n",
              "      <td>1</td>\n",
              "      <td>5.0</td>\n",
              "      <td>23</td>\n",
              "      <td>46</td>\n",
              "      <td>406</td>\n",
              "    </tr>\n",
              "    <tr>\n",
              "      <th>6</th>\n",
              "      <td>2019-02-01 00:00:00</td>\n",
              "      <td>بونگ بونگ بونگ بونگ بونگ بونگ بونگ بونگ بونگ ب...</td>\n",
              "      <td>0</td>\n",
              "      <td>0</td>\n",
              "      <td>6.0</td>\n",
              "      <td>11532</td>\n",
              "      <td>5</td>\n",
              "      <td>67972</td>\n",
              "    </tr>\n",
              "    <tr>\n",
              "      <th>7</th>\n",
              "      <td>2019-02-01 00:00:00</td>\n",
              "      <td>:))))))))))))))))) نیست؟؟؟</td>\n",
              "      <td>0</td>\n",
              "      <td>1</td>\n",
              "      <td>7.0</td>\n",
              "      <td>130</td>\n",
              "      <td>154</td>\n",
              "      <td>843</td>\n",
              "    </tr>\n",
              "    <tr>\n",
              "      <th>8</th>\n",
              "      <td>2019-01-31 23:59:59</td>\n",
              "      <td>از ساعت ۱۲-۱ به بعد هم اساسی فرو میکنه 🚶🏻‍♂️🚬</td>\n",
              "      <td>0</td>\n",
              "      <td>3</td>\n",
              "      <td>8.0</td>\n",
              "      <td>353</td>\n",
              "      <td>135</td>\n",
              "      <td>292</td>\n",
              "    </tr>\n",
              "    <tr>\n",
              "      <th>9</th>\n",
              "      <td>2019-01-31 23:59:59</td>\n",
              "      <td>ولی خودمونیم هیچی اون قر ریزای همراه آهنگ که ا...</td>\n",
              "      <td>0</td>\n",
              "      <td>14</td>\n",
              "      <td>9.0</td>\n",
              "      <td>826</td>\n",
              "      <td>348</td>\n",
              "      <td>14370</td>\n",
              "    </tr>\n",
              "  </tbody>\n",
              "</table>\n",
              "</div>\n",
              "    <div class=\"colab-df-buttons\">\n",
              "\n",
              "  <div class=\"colab-df-container\">\n",
              "    <button class=\"colab-df-convert\" onclick=\"convertToInteractive('df-d2a63af4-16be-470e-bcc9-e8be4550d370')\"\n",
              "            title=\"Convert this dataframe to an interactive table.\"\n",
              "            style=\"display:none;\">\n",
              "\n",
              "  <svg xmlns=\"http://www.w3.org/2000/svg\" height=\"24px\" viewBox=\"0 -960 960 960\">\n",
              "    <path d=\"M120-120v-720h720v720H120Zm60-500h600v-160H180v160Zm220 220h160v-160H400v160Zm0 220h160v-160H400v160ZM180-400h160v-160H180v160Zm440 0h160v-160H620v160ZM180-180h160v-160H180v160Zm440 0h160v-160H620v160Z\"/>\n",
              "  </svg>\n",
              "    </button>\n",
              "\n",
              "  <style>\n",
              "    .colab-df-container {\n",
              "      display:flex;\n",
              "      gap: 12px;\n",
              "    }\n",
              "\n",
              "    .colab-df-convert {\n",
              "      background-color: #E8F0FE;\n",
              "      border: none;\n",
              "      border-radius: 50%;\n",
              "      cursor: pointer;\n",
              "      display: none;\n",
              "      fill: #1967D2;\n",
              "      height: 32px;\n",
              "      padding: 0 0 0 0;\n",
              "      width: 32px;\n",
              "    }\n",
              "\n",
              "    .colab-df-convert:hover {\n",
              "      background-color: #E2EBFA;\n",
              "      box-shadow: 0px 1px 2px rgba(60, 64, 67, 0.3), 0px 1px 3px 1px rgba(60, 64, 67, 0.15);\n",
              "      fill: #174EA6;\n",
              "    }\n",
              "\n",
              "    .colab-df-buttons div {\n",
              "      margin-bottom: 4px;\n",
              "    }\n",
              "\n",
              "    [theme=dark] .colab-df-convert {\n",
              "      background-color: #3B4455;\n",
              "      fill: #D2E3FC;\n",
              "    }\n",
              "\n",
              "    [theme=dark] .colab-df-convert:hover {\n",
              "      background-color: #434B5C;\n",
              "      box-shadow: 0px 1px 3px 1px rgba(0, 0, 0, 0.15);\n",
              "      filter: drop-shadow(0px 1px 2px rgba(0, 0, 0, 0.3));\n",
              "      fill: #FFFFFF;\n",
              "    }\n",
              "  </style>\n",
              "\n",
              "    <script>\n",
              "      const buttonEl =\n",
              "        document.querySelector('#df-d2a63af4-16be-470e-bcc9-e8be4550d370 button.colab-df-convert');\n",
              "      buttonEl.style.display =\n",
              "        google.colab.kernel.accessAllowed ? 'block' : 'none';\n",
              "\n",
              "      async function convertToInteractive(key) {\n",
              "        const element = document.querySelector('#df-d2a63af4-16be-470e-bcc9-e8be4550d370');\n",
              "        const dataTable =\n",
              "          await google.colab.kernel.invokeFunction('convertToInteractive',\n",
              "                                                    [key], {});\n",
              "        if (!dataTable) return;\n",
              "\n",
              "        const docLinkHtml = 'Like what you see? Visit the ' +\n",
              "          '<a target=\"_blank\" href=https://colab.research.google.com/notebooks/data_table.ipynb>data table notebook</a>'\n",
              "          + ' to learn more about interactive tables.';\n",
              "        element.innerHTML = '';\n",
              "        dataTable['output_type'] = 'display_data';\n",
              "        await google.colab.output.renderOutput(dataTable, element);\n",
              "        const docLink = document.createElement('div');\n",
              "        docLink.innerHTML = docLinkHtml;\n",
              "        element.appendChild(docLink);\n",
              "      }\n",
              "    </script>\n",
              "  </div>\n",
              "\n",
              "\n",
              "    <div id=\"df-9907c5fe-752e-4061-b6ac-1467ef7b1785\">\n",
              "      <button class=\"colab-df-quickchart\" onclick=\"quickchart('df-9907c5fe-752e-4061-b6ac-1467ef7b1785')\"\n",
              "                title=\"Suggest charts\"\n",
              "                style=\"display:none;\">\n",
              "\n",
              "<svg xmlns=\"http://www.w3.org/2000/svg\" height=\"24px\"viewBox=\"0 0 24 24\"\n",
              "     width=\"24px\">\n",
              "    <g>\n",
              "        <path d=\"M19 3H5c-1.1 0-2 .9-2 2v14c0 1.1.9 2 2 2h14c1.1 0 2-.9 2-2V5c0-1.1-.9-2-2-2zM9 17H7v-7h2v7zm4 0h-2V7h2v10zm4 0h-2v-4h2v4z\"/>\n",
              "    </g>\n",
              "</svg>\n",
              "      </button>\n",
              "\n",
              "<style>\n",
              "  .colab-df-quickchart {\n",
              "      --bg-color: #E8F0FE;\n",
              "      --fill-color: #1967D2;\n",
              "      --hover-bg-color: #E2EBFA;\n",
              "      --hover-fill-color: #174EA6;\n",
              "      --disabled-fill-color: #AAA;\n",
              "      --disabled-bg-color: #DDD;\n",
              "  }\n",
              "\n",
              "  [theme=dark] .colab-df-quickchart {\n",
              "      --bg-color: #3B4455;\n",
              "      --fill-color: #D2E3FC;\n",
              "      --hover-bg-color: #434B5C;\n",
              "      --hover-fill-color: #FFFFFF;\n",
              "      --disabled-bg-color: #3B4455;\n",
              "      --disabled-fill-color: #666;\n",
              "  }\n",
              "\n",
              "  .colab-df-quickchart {\n",
              "    background-color: var(--bg-color);\n",
              "    border: none;\n",
              "    border-radius: 50%;\n",
              "    cursor: pointer;\n",
              "    display: none;\n",
              "    fill: var(--fill-color);\n",
              "    height: 32px;\n",
              "    padding: 0;\n",
              "    width: 32px;\n",
              "  }\n",
              "\n",
              "  .colab-df-quickchart:hover {\n",
              "    background-color: var(--hover-bg-color);\n",
              "    box-shadow: 0 1px 2px rgba(60, 64, 67, 0.3), 0 1px 3px 1px rgba(60, 64, 67, 0.15);\n",
              "    fill: var(--button-hover-fill-color);\n",
              "  }\n",
              "\n",
              "  .colab-df-quickchart-complete:disabled,\n",
              "  .colab-df-quickchart-complete:disabled:hover {\n",
              "    background-color: var(--disabled-bg-color);\n",
              "    fill: var(--disabled-fill-color);\n",
              "    box-shadow: none;\n",
              "  }\n",
              "\n",
              "  .colab-df-spinner {\n",
              "    border: 2px solid var(--fill-color);\n",
              "    border-color: transparent;\n",
              "    border-bottom-color: var(--fill-color);\n",
              "    animation:\n",
              "      spin 1s steps(1) infinite;\n",
              "  }\n",
              "\n",
              "  @keyframes spin {\n",
              "    0% {\n",
              "      border-color: transparent;\n",
              "      border-bottom-color: var(--fill-color);\n",
              "      border-left-color: var(--fill-color);\n",
              "    }\n",
              "    20% {\n",
              "      border-color: transparent;\n",
              "      border-left-color: var(--fill-color);\n",
              "      border-top-color: var(--fill-color);\n",
              "    }\n",
              "    30% {\n",
              "      border-color: transparent;\n",
              "      border-left-color: var(--fill-color);\n",
              "      border-top-color: var(--fill-color);\n",
              "      border-right-color: var(--fill-color);\n",
              "    }\n",
              "    40% {\n",
              "      border-color: transparent;\n",
              "      border-right-color: var(--fill-color);\n",
              "      border-top-color: var(--fill-color);\n",
              "    }\n",
              "    60% {\n",
              "      border-color: transparent;\n",
              "      border-right-color: var(--fill-color);\n",
              "    }\n",
              "    80% {\n",
              "      border-color: transparent;\n",
              "      border-right-color: var(--fill-color);\n",
              "      border-bottom-color: var(--fill-color);\n",
              "    }\n",
              "    90% {\n",
              "      border-color: transparent;\n",
              "      border-bottom-color: var(--fill-color);\n",
              "    }\n",
              "  }\n",
              "</style>\n",
              "\n",
              "      <script>\n",
              "        async function quickchart(key) {\n",
              "          const quickchartButtonEl =\n",
              "            document.querySelector('#' + key + ' button');\n",
              "          quickchartButtonEl.disabled = true;  // To prevent multiple clicks.\n",
              "          quickchartButtonEl.classList.add('colab-df-spinner');\n",
              "          try {\n",
              "            const charts = await google.colab.kernel.invokeFunction(\n",
              "                'suggestCharts', [key], {});\n",
              "          } catch (error) {\n",
              "            console.error('Error during call to suggestCharts:', error);\n",
              "          }\n",
              "          quickchartButtonEl.classList.remove('colab-df-spinner');\n",
              "          quickchartButtonEl.classList.add('colab-df-quickchart-complete');\n",
              "        }\n",
              "        (() => {\n",
              "          let quickchartButtonEl =\n",
              "            document.querySelector('#df-9907c5fe-752e-4061-b6ac-1467ef7b1785 button');\n",
              "          quickchartButtonEl.style.display =\n",
              "            google.colab.kernel.accessAllowed ? 'block' : 'none';\n",
              "        })();\n",
              "      </script>\n",
              "    </div>\n",
              "\n",
              "    </div>\n",
              "  </div>\n"
            ],
            "application/vnd.google.colaboratory.intrinsic+json": {
              "type": "dataframe",
              "variable_name": "df"
            }
          },
          "metadata": {},
          "execution_count": 14
        }
      ],
      "source": [
        "import pandas as pd\n",
        "\n",
        "column_names = [\"Date_and_Time\", \"Text\", \"Retweet\", \"Like\", \"Account_id\", \"Followers_count\", \"Following_count\", \"Tweets_count\"]\n",
        "df = pd.read_csv(csv_path, nrows=500000, names=column_names)\n",
        "df.head(10)\n"
      ]
    },
    {
      "cell_type": "markdown",
      "metadata": {
        "id": "1ibW4OiAM9V3"
      },
      "source": [
        "**Data** **Cleaning**"
      ]
    },
    {
      "cell_type": "code",
      "execution_count": 15,
      "metadata": {
        "id": "u8CnUiU2scaQ"
      },
      "outputs": [],
      "source": [
        "import re\n",
        "\n",
        "def clean_tweet(text):\n",
        "\n",
        "    text = str(text)\n",
        "\n",
        "    #link\n",
        "    text = re.sub(r'http\\S+|www.\\S+', '', text)\n",
        "\n",
        "    #emoji\n",
        "    emoji_pattern = re.compile(\"[\"\n",
        "                           u\"\\U0001F600-\\U0001F64F\"  # Emoticons\n",
        "                           u\"\\U0001F300-\\U0001F5FF\"  # Symbols & Pictographs\n",
        "                           u\"\\U0001F680-\\U0001F6FF\"  # Transport & Map Symbols\n",
        "                           u\"\\U0001F1E0-\\U0001F1FF\"  # Flags\n",
        "                           u\"\\U00002500-\\U00002BEF\"  # Chinese/Japanese/Korean characters\n",
        "                           u\"\\U00002702-\\U000027B0\"\n",
        "                           u\"\\U000024C2-\\U0001F251\"\n",
        "                           \"]+\", flags=re.UNICODE)\n",
        "    text = emoji_pattern.sub(r'', text)\n",
        "\n",
        "\n",
        "\n",
        "    #additional space\n",
        "    text = re.sub(r'\\s+', ' ', text).strip()\n",
        "\n",
        "    return text"
      ]
    },
    {
      "cell_type": "code",
      "execution_count": 16,
      "metadata": {
        "id": "KyH2QssK-3We"
      },
      "outputs": [],
      "source": [
        "df_clean = df.copy()"
      ]
    },
    {
      "cell_type": "code",
      "execution_count": 17,
      "metadata": {
        "id": "l2mcyMTC--51"
      },
      "outputs": [],
      "source": [
        "df_clean['Text'] = df_clean['Text'].apply(clean_tweet)"
      ]
    },
    {
      "cell_type": "code",
      "execution_count": 18,
      "metadata": {
        "id": "r0dpgyU6ZQsE"
      },
      "outputs": [],
      "source": [
        "import numpy as np\n",
        "import tensorflow as tf\n",
        "from tensorflow.keras.preprocessing.text import Tokenizer\n",
        "from tensorflow.keras.preprocessing.sequence import pad_sequences\n",
        "import random\n",
        "\n",
        "texts = df_clean['Text'].dropna().tolist()\n",
        "tokenizer = Tokenizer(num_words=10000, oov_token='<OOV>')\n",
        "tokenizer.fit_on_texts(texts)\n",
        "\n",
        "total_words = min(10000, len(tokenizer.word_index) + 1)\n",
        "\n",
        "raw_seqs = []\n",
        "\n",
        "# n-gram sequences\n",
        "raw_seqs = []\n",
        "for line in texts:\n",
        "    seq = tokenizer.texts_to_sequences([line])[0]\n",
        "    for i in range(1, len(seq)):\n",
        "        raw_seqs.append(seq[: i+1])\n",
        "\n",
        "# Identify OOV and padding\n",
        "oov_idx = tokenizer.word_index[tokenizer.oov_token]\n",
        "pad_idx = 0\n",
        "\n",
        "filtered_seqs = [\n",
        "    seq for seq in raw_seqs\n",
        "    if seq[-1] not in (oov_idx, pad_idx)\n",
        "]\n",
        "\n",
        "MAX_LEN = 25\n",
        "filtered_seqs = [seq for seq in filtered_seqs if len(seq) <= MAX_LEN]\n",
        "\n",
        "# pre-padding\n",
        "padded = pad_sequences(filtered_seqs, maxlen=MAX_LEN, padding='pre')\n",
        "\n",
        "# Split into X and y\n",
        "X = padded[:, :-1]\n",
        "y = padded[:, -1]\n"
      ]
    },
    {
      "cell_type": "code",
      "execution_count": 20,
      "metadata": {
        "colab": {
          "base_uri": "https://localhost:8080/"
        },
        "id": "ND9MgkmzacME",
        "outputId": "09a1d716-f6c2-4a57-908b-12f061f78395"
      },
      "outputs": [
        {
          "output_type": "stream",
          "name": "stdout",
          "text": [
            "Sample 1:\n",
            "  Input tokens : [0 0 0 0 0 0 0 0 0 0 0 0 0 0 0 0 0 0 0 0 0 0 0 3]\n",
            "  Input text   : rt\n",
            "  Next token   : 4 (به)\n",
            "\n",
            "Sample 2:\n",
            "  Input tokens : [0 0 0 0 0 0 0 0 0 0 0 0 0 0 0 0 0 0 0 0 0 0 3 4]\n",
            "  Input text   : rt به\n",
            "  Next token   : 142 (نظر)\n",
            "\n",
            "Sample 3:\n",
            "  Input tokens : [  0   0   0   0   0   0   0   0   0   0   0   0   0   0   0   0   0   0\n",
            "   0   0   0   3   4 142]\n",
            "  Input text   : rt به نظر\n",
            "  Next token   : 34 (شما)\n",
            "\n",
            "Sample 4:\n",
            "  Input tokens : [  0   0   0   0   0   0   0   0   0   0   0   0   0   0   0   0   0   0\n",
            "   0   0   3   4 142  34]\n",
            "  Input text   : rt به نظر شما\n",
            "  Next token   : 58 (وقتی)\n",
            "\n",
            "Sample 5:\n",
            "  Input tokens : [  0   0   0   0   0   0   0   0   0   0   0   0   0   0   0   0   0   0\n",
            "   0   3   4 142  34  58]\n",
            "  Input text   : rt به نظر شما وقتی\n",
            "  Next token   : 7948 (جرمی)\n",
            "\n"
          ]
        }
      ],
      "source": [
        "for i in range(5):\n",
        "    inp_seq = X[i]\n",
        "    label   = y[i]\n",
        "\n",
        "    # convert non-zero tokens back to words\n",
        "    words = [\n",
        "        tokenizer.index_word.get(tok, '<OOV>')\n",
        "        for tok in inp_seq\n",
        "        if tok != 0\n",
        "    ]\n",
        "    next_word = tokenizer.index_word.get(label, '<OOV>')\n",
        "\n",
        "    print(f\"Sample {i+1}:\")\n",
        "    print(\"  Input tokens :\", inp_seq)\n",
        "    print(\"  Input text   :\", \" \".join(words))\n",
        "    print(\"  Next token   :\", label, f\"({next_word})\\n\")"
      ]
    },
    {
      "cell_type": "code",
      "execution_count": 21,
      "metadata": {
        "colab": {
          "base_uri": "https://localhost:8080/"
        },
        "id": "P7pRvsRKqvce",
        "outputId": "34d3ede0-5045-4a92-edc9-4b08c5d965a4"
      },
      "outputs": [
        {
          "output_type": "stream",
          "name": "stderr",
          "text": [
            "/usr/local/lib/python3.12/dist-packages/keras/src/layers/core/embedding.py:97: UserWarning: Argument `input_length` is deprecated. Just remove it.\n",
            "  warnings.warn(\n"
          ]
        }
      ],
      "source": [
        "from tensorflow.keras.models import Sequential\n",
        "from tensorflow.keras.layers import Embedding, LSTM, Dense, Dropout\n",
        "\n",
        "model = Sequential([\n",
        "    Embedding(total_words, 128, input_length=MAX_LEN-1),\n",
        "    Dropout(0.2),\n",
        "    LSTM(128, return_sequences=True),\n",
        "    Dropout(0.2),\n",
        "    LSTM(64),\n",
        "    Dense(total_words, activation='softmax')\n",
        "])\n",
        "\n",
        "model.compile(loss='sparse_categorical_crossentropy', optimizer='adam', metrics=['accuracy'])\n"
      ]
    },
    {
      "cell_type": "code",
      "execution_count": 26,
      "metadata": {
        "id": "l7UrCFVQq0Y-",
        "colab": {
          "base_uri": "https://localhost:8080/"
        },
        "outputId": "6a03628e-b8af-4ae5-c31f-466d1e263868"
      },
      "outputs": [
        {
          "output_type": "stream",
          "name": "stdout",
          "text": [
            "Epoch 1/7\n",
            "\u001b[1m11500/11500\u001b[0m \u001b[32m━━━━━━━━━━━━━━━━━━━━\u001b[0m\u001b[37m\u001b[0m \u001b[1m244s\u001b[0m 21ms/step - accuracy: 0.0585 - loss: 7.0557\n",
            "Epoch 2/7\n",
            "\u001b[1m11500/11500\u001b[0m \u001b[32m━━━━━━━━━━━━━━━━━━━━\u001b[0m\u001b[37m\u001b[0m \u001b[1m242s\u001b[0m 21ms/step - accuracy: 0.1192 - loss: 6.2173\n",
            "Epoch 3/7\n",
            "\u001b[1m11500/11500\u001b[0m \u001b[32m━━━━━━━━━━━━━━━━━━━━\u001b[0m\u001b[37m\u001b[0m \u001b[1m241s\u001b[0m 21ms/step - accuracy: 0.1475 - loss: 5.8954\n",
            "Epoch 4/7\n",
            "\u001b[1m11500/11500\u001b[0m \u001b[32m━━━━━━━━━━━━━━━━━━━━\u001b[0m\u001b[37m\u001b[0m \u001b[1m242s\u001b[0m 21ms/step - accuracy: 0.1653 - loss: 5.7097\n",
            "Epoch 5/7\n",
            "\u001b[1m11500/11500\u001b[0m \u001b[32m━━━━━━━━━━━━━━━━━━━━\u001b[0m\u001b[37m\u001b[0m \u001b[1m246s\u001b[0m 21ms/step - accuracy: 0.1784 - loss: 5.5814\n",
            "Epoch 6/7\n",
            "\u001b[1m11500/11500\u001b[0m \u001b[32m━━━━━━━━━━━━━━━━━━━━\u001b[0m\u001b[37m\u001b[0m \u001b[1m242s\u001b[0m 21ms/step - accuracy: 0.1885 - loss: 5.4869\n",
            "Epoch 7/7\n",
            "\u001b[1m11500/11500\u001b[0m \u001b[32m━━━━━━━━━━━━━━━━━━━━\u001b[0m\u001b[37m\u001b[0m \u001b[1m241s\u001b[0m 21ms/step - accuracy: 0.1963 - loss: 5.4154\n"
          ]
        },
        {
          "output_type": "execute_result",
          "data": {
            "text/plain": [
              "<keras.src.callbacks.history.History at 0x785699357e60>"
            ]
          },
          "metadata": {},
          "execution_count": 26
        }
      ],
      "source": [
        "dataset = tf.data.Dataset.from_tensor_slices((X, y))\n",
        "dataset = dataset.shuffle(10000).batch(512).prefetch(tf.data.AUTOTUNE)\n",
        "\n",
        "model.fit(dataset, epochs=7)\n"
      ]
    },
    {
      "cell_type": "code",
      "execution_count": 27,
      "metadata": {
        "id": "lsYVJcC9rrBv"
      },
      "outputs": [],
      "source": [
        "def sample_with_temperature(preds, temperature=1.0):\n",
        "    preds = np.asarray(preds).astype('float64')\n",
        "    preds = np.log(preds + 1e-8) / temperature\n",
        "    exp_preds = np.exp(preds)\n",
        "    preds = exp_preds / np.sum(exp_preds)\n",
        "    return np.random.choice(len(preds), p=preds)\n"
      ]
    },
    {
      "cell_type": "code",
      "execution_count": 28,
      "metadata": {
        "id": "HS-RfmZ8rsNv"
      },
      "outputs": [],
      "source": [
        "def predict_next_word(seed_text, num_words=1, temperature=1.0):\n",
        "    for _ in range(num_words):\n",
        "        token_list = tokenizer.texts_to_sequences([seed_text])[0]\n",
        "        token_list = pad_sequences([token_list], maxlen=MAX_LEN-1, padding='pre')\n",
        "        predicted = model.predict(token_list, verbose=0)\n",
        "        next_index = sample_with_temperature(predicted[0], temperature)\n",
        "        next_word = tokenizer.index_word.get(next_index, '')\n",
        "        if not next_word:\n",
        "            break\n",
        "        seed_text += \" \" + next_word\n",
        "    return seed_text\n"
      ]
    },
    {
      "cell_type": "code",
      "execution_count": 29,
      "metadata": {
        "colab": {
          "base_uri": "https://localhost:8080/"
        },
        "id": "fw336GmBrvO2",
        "outputId": "1ef1c46f-a499-43a9-e594-4d58ad583776"
      },
      "outputs": [
        {
          "output_type": "stream",
          "name": "stdout",
          "text": [
            " شاهزاده رضا پهلوی\n"
          ]
        }
      ],
      "source": [
        "print(predict_next_word(\" شاهزاده رضا\", num_words=1, temperature=0.5))\n"
      ]
    }
  ],
  "metadata": {
    "accelerator": "GPU",
    "colab": {
      "gpuType": "T4",
      "provenance": []
    },
    "kernelspec": {
      "display_name": "Python 3",
      "name": "python3"
    },
    "language_info": {
      "name": "python"
    }
  },
  "nbformat": 4,
  "nbformat_minor": 0
}